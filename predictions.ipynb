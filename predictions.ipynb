{
 "cells": [
  {
   "cell_type": "markdown",
   "metadata": {},
   "source": [
    "# Test data"
   ]
  },
  {
   "cell_type": "code",
   "execution_count": 44,
   "metadata": {},
   "outputs": [],
   "source": [
    "import pandas as pd \n",
    "import matplotlib.pyplot as plt\n",
    "import numpy as np\n",
    "import missingno as mno\n",
    "import seaborn as sns\n",
    "import xgboost as xgb\n",
    "from sklearn.metrics import accuracy_score\n",
    "from sklearn.model_selection import train_test_split\n",
    "from sklearn.metrics import confusion_matrix, ConfusionMatrixDisplay, classification_report\n",
    "\n",
    "# neural network\n",
    "import tensorflow as tf\n",
    "from tensorflow import keras\n",
    "from keras.callbacks import EarlyStopping\n",
    "from keras.models import Sequential\n",
    "from keras.layers import Dense\n",
    "from sklearn.preprocessing import StandardScaler"
   ]
  },
  {
   "cell_type": "code",
   "execution_count": 45,
   "metadata": {},
   "outputs": [
    {
     "name": "stderr",
     "output_type": "stream",
     "text": [
      "C:\\Users\\gltut\\AppData\\Local\\Temp\\ipykernel_26128\\2538917660.py:46: FutureWarning: The frame.append method is deprecated and will be removed from pandas in a future version. Use pandas.concat instead.\n",
      "  df = df.append(df_nan_cryo)\n",
      "C:\\Users\\gltut\\AppData\\Local\\Temp\\ipykernel_26128\\2538917660.py:70: FutureWarning: The frame.append method is deprecated and will be removed from pandas in a future version. Use pandas.concat instead.\n",
      "  df = df.append(df_nan_vip)\n"
     ]
    }
   ],
   "source": [
    "df = pd.read_csv('data/test.csv')\n",
    "\n",
    "df = df.drop(['PassengerId', 'Name'], axis = 1)\n",
    "\n",
    "\n",
    "# Cabin\n",
    "to_drop = df[df['Cabin'].isnull()].index\n",
    "df.drop(to_drop, inplace = True)\n",
    "\n",
    "df[['Cabin_deck', 'Cabin_num', 'Cabin_side' ]] = df.Cabin.str.split(\"/\", expand = True)\n",
    "df = df.drop(['Cabin'], axis = 1)\n",
    "\n",
    "df['Cabin_deck'] = df['Cabin_deck'].replace(['A', 'B', 'C', 'D', 'E', 'F', 'G', 'T'], [1, 2, 3, 4, 5, 6, 7, 8])\n",
    "df['Cabin_deck'] = df['Cabin_deck'].astype('category')\n",
    "\n",
    "df['Cabin_num'] = df['Cabin_num'].astype('int')\n",
    "\n",
    "df['Cabin_side'] = df['Cabin_side'].replace(['P', 'S'], [1,0])\n",
    "df['Cabin_side'] = df['Cabin_side'].astype('bool')\n",
    "\n",
    "# HomePlanet\n",
    "df['HomePlanet'] = df['HomePlanet'].fillna('Unknown')\n",
    "df['HomePlanet'] = df['HomePlanet'].astype('category')\n",
    "\n",
    "# Luxuries\n",
    "df['RoomService'].fillna(0.0, inplace = True)\n",
    "df['FoodCourt'].fillna(0.0, inplace = True)\n",
    "df['ShoppingMall'].fillna(0.0, inplace = True)\n",
    "df['Spa'].fillna(0.0, inplace = True)\n",
    "df['VRDeck'].fillna(0.0, inplace = True)\n",
    "\n",
    "amount_columns = ['RoomService', 'FoodCourt', 'ShoppingMall', 'Spa', 'VRDeck']\n",
    "df['Spendings'] = df[amount_columns].sum(axis = 1)\n",
    "df = df.drop(amount_columns, axis = 1)\n",
    "\n",
    "# CryoSleep\n",
    "def is_cryo(total):\n",
    "    if total == 0:\n",
    "        return True\n",
    "    else:\n",
    "        return False\n",
    "\n",
    "df_nan_cryo = df[df['CryoSleep'].isnull()]\n",
    "df = df.drop(df_nan_cryo.index)\n",
    "df_nan_cryo['CryoSleep'] = df_nan_cryo.apply(lambda row: is_cryo(row['Spendings']), axis = 1)\n",
    "df = df.append(df_nan_cryo)\n",
    "df = df.sort_index()\n",
    "\n",
    "df['CryoSleep'] = df['CryoSleep'].astype('bool')\n",
    "\n",
    "\n",
    "# Destination\n",
    "df['Destination'] = df['Destination'].fillna('Unknown')\n",
    "df['Destination'] = df['Destination'].astype('category')\n",
    "\n",
    "# Age\n",
    "df['Age'].fillna(df['Age'].mean(), inplace=True)\n",
    "df['Age'] = df['Age'].astype('int')\n",
    "\n",
    "# VIP\n",
    "def is_vip(home):\n",
    "    if home == 'Earth':\n",
    "        return False\n",
    "    else:\n",
    "        return 'IDK'\n",
    "    \n",
    "df_nan_vip = df[df['VIP'].isnull()]\n",
    "df = df.drop(df_nan_vip.index)\n",
    "df_nan_vip['VIP'] = df_nan_vip.apply(lambda row: is_vip(row['HomePlanet']), axis = 1)\n",
    "df = df.append(df_nan_vip)\n",
    "df = df.sort_index()\n",
    "\n",
    "df = df.drop(df[df['VIP'] == 'IDK'].index)\n",
    "df['VIP'] = df['VIP'].astype('bool')\n",
    "\n",
    "# Dummies\n",
    "df = pd.get_dummies(df, columns = ['Cabin_deck', 'HomePlanet', 'Destination'])\n",
    "df = df.reset_index(drop = 1)"
   ]
  },
  {
   "cell_type": "markdown",
   "metadata": {},
   "source": [
    "# XGBoost"
   ]
  },
  {
   "cell_type": "code",
   "execution_count": 46,
   "metadata": {},
   "outputs": [],
   "source": [
    "tree = xgb.XGBClassifier()\n",
    "tree.load_model(\"models/xgb_model.json\")\n",
    "pred_xgb = tree.predict(df)"
   ]
  },
  {
   "cell_type": "code",
   "execution_count": 47,
   "metadata": {},
   "outputs": [],
   "source": [
    "df_result = df.copy()\n",
    "df_result['preds_xgb'] = pred_xgb\n",
    "df_result['preds_xgb'] = df_result['preds_xgb'].astype('bool')"
   ]
  },
  {
   "cell_type": "markdown",
   "metadata": {},
   "source": [
    "# MLP"
   ]
  },
  {
   "cell_type": "code",
   "execution_count": 48,
   "metadata": {},
   "outputs": [],
   "source": [
    "df2 = df.copy()\n",
    "\n",
    "# Scaling the numerical variables\n",
    "numerical = ['Spendings', 'Cabin_num']\n",
    "df_num = df2[numerical].copy()\n",
    "scaler = StandardScaler()  \n",
    "df_num1 = scaler.fit_transform(df_num)\n",
    "df_num1 = pd.DataFrame(df_num1, columns = df_num.columns.values)\n",
    "\n",
    "# Merging the categorical and numerical variables\n",
    "df2['Spendings'] = df_num1['Spendings']\n",
    "df2['Cabin_num'] = df_num1['Cabin_num']\n",
    "\n",
    "bool_cols = ['CryoSleep', 'VIP', 'Cabin_side']\n",
    "for col in bool_cols:\n",
    "    df2[col] = df2[col].astype('int')"
   ]
  },
  {
   "cell_type": "code",
   "execution_count": 49,
   "metadata": {},
   "outputs": [
    {
     "name": "stdout",
     "output_type": "stream",
     "text": [
      "130/130 [==============================] - 0s 787us/step\n"
     ]
    }
   ],
   "source": [
    "mlp = tf.keras.models.load_model('models/mlp_model.keras')\n",
    "pred_mlp = mlp.predict(df2)\n",
    "df_result['preds_mlp'] = np.round(pred_mlp, 0)\n",
    "df_result['preds_mlp'] = df_result['preds_mlp'].astype('bool')"
   ]
  },
  {
   "cell_type": "code",
   "execution_count": 51,
   "metadata": {},
   "outputs": [],
   "source": [
    "df_result.to_csv('results.csv')"
   ]
  }
 ],
 "metadata": {
  "kernelspec": {
   "display_name": "Python 3",
   "language": "python",
   "name": "python3"
  },
  "language_info": {
   "codemirror_mode": {
    "name": "ipython",
    "version": 3
   },
   "file_extension": ".py",
   "mimetype": "text/x-python",
   "name": "python",
   "nbconvert_exporter": "python",
   "pygments_lexer": "ipython3",
   "version": "3.9.13"
  },
  "orig_nbformat": 4
 },
 "nbformat": 4,
 "nbformat_minor": 2
}
